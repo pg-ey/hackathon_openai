{
 "cells": [
  {
   "cell_type": "code",
   "execution_count": 1,
   "id": "16427b50-501d-4f62-afd7-65d507fccffd",
   "metadata": {
    "tags": []
   },
   "outputs": [
    {
     "name": "stdout",
     "output_type": "stream",
     "text": [
      "Requirement already satisfied: yfinance==0.2.38 in /anaconda/envs/azureml_py38/lib/python3.8/site-packages (0.2.38)\n",
      "Requirement already satisfied: frozendict>=2.3.4 in /anaconda/envs/azureml_py38/lib/python3.8/site-packages (from yfinance==0.2.38) (2.4.4)\n",
      "Requirement already satisfied: numpy>=1.16.5 in /anaconda/envs/azureml_py38/lib/python3.8/site-packages (from yfinance==0.2.38) (1.21.6)\n",
      "Requirement already satisfied: html5lib>=1.1 in /anaconda/envs/azureml_py38/lib/python3.8/site-packages (from yfinance==0.2.38) (1.1)\n",
      "Requirement already satisfied: multitasking>=0.0.7 in /anaconda/envs/azureml_py38/lib/python3.8/site-packages (from yfinance==0.2.38) (0.0.11)\n",
      "Requirement already satisfied: pandas>=1.3.0 in /anaconda/envs/azureml_py38/lib/python3.8/site-packages (from yfinance==0.2.38) (2.0.3)\n",
      "Requirement already satisfied: requests>=2.31 in /anaconda/envs/azureml_py38/lib/python3.8/site-packages (from yfinance==0.2.38) (2.31.0)\n",
      "Requirement already satisfied: beautifulsoup4>=4.11.1 in /anaconda/envs/azureml_py38/lib/python3.8/site-packages (from yfinance==0.2.38) (4.12.2)\n",
      "Requirement already satisfied: appdirs>=1.4.4 in /anaconda/envs/azureml_py38/lib/python3.8/site-packages (from yfinance==0.2.38) (1.4.4)\n",
      "Requirement already satisfied: pytz>=2022.5 in /anaconda/envs/azureml_py38/lib/python3.8/site-packages (from yfinance==0.2.38) (2022.5)\n",
      "Requirement already satisfied: lxml>=4.9.1 in /anaconda/envs/azureml_py38/lib/python3.8/site-packages (from yfinance==0.2.38) (5.2.2)\n",
      "Requirement already satisfied: peewee>=3.16.2 in /anaconda/envs/azureml_py38/lib/python3.8/site-packages (from yfinance==0.2.38) (3.17.5)\n",
      "Requirement already satisfied: six>=1.9 in /anaconda/envs/azureml_py38/lib/python3.8/site-packages (from html5lib>=1.1->yfinance==0.2.38) (1.16.0)\n",
      "Requirement already satisfied: webencodings in /anaconda/envs/azureml_py38/lib/python3.8/site-packages (from html5lib>=1.1->yfinance==0.2.38) (0.5.1)\n",
      "Requirement already satisfied: python-dateutil>=2.8.2 in /anaconda/envs/azureml_py38/lib/python3.8/site-packages (from pandas>=1.3.0->yfinance==0.2.38) (2.8.2)\n",
      "Requirement already satisfied: tzdata>=2022.1 in /anaconda/envs/azureml_py38/lib/python3.8/site-packages (from pandas>=1.3.0->yfinance==0.2.38) (2023.3)\n",
      "Requirement already satisfied: urllib3<3,>=1.21.1 in /anaconda/envs/azureml_py38/lib/python3.8/site-packages (from requests>=2.31->yfinance==0.2.38) (1.26.16)\n",
      "Requirement already satisfied: charset-normalizer<4,>=2 in /anaconda/envs/azureml_py38/lib/python3.8/site-packages (from requests>=2.31->yfinance==0.2.38) (3.1.0)\n",
      "Requirement already satisfied: certifi>=2017.4.17 in /anaconda/envs/azureml_py38/lib/python3.8/site-packages (from requests>=2.31->yfinance==0.2.38) (2022.9.24)\n",
      "Requirement already satisfied: idna<4,>=2.5 in /anaconda/envs/azureml_py38/lib/python3.8/site-packages (from requests>=2.31->yfinance==0.2.38) (3.4)\n",
      "Requirement already satisfied: soupsieve>1.2 in /anaconda/envs/azureml_py38/lib/python3.8/site-packages (from beautifulsoup4>=4.11.1->yfinance==0.2.38) (2.4.1)\n",
      "Note: you may need to restart the kernel to use updated packages.\n"
     ]
    }
   ],
   "source": [
    "pip install yfinance==0.2.38"
   ]
  },
  {
   "cell_type": "code",
   "execution_count": 2,
   "id": "97990fdf-259a-4f8a-83f3-a314a6229a7f",
   "metadata": {},
   "outputs": [],
   "source": [
    "import yfinance as yf"
   ]
  },
  {
   "cell_type": "code",
   "execution_count": 3,
   "id": "dc53f473-232b-432c-8064-207dad5ef98d",
   "metadata": {},
   "outputs": [],
   "source": [
    "symbol =\"TSLA\""
   ]
  },
  {
   "cell_type": "code",
   "execution_count": 4,
   "id": "deb57207-f0f2-44dd-96f2-0dfb8e61db03",
   "metadata": {},
   "outputs": [],
   "source": [
    "start_date = \"2013-01-01\"\n",
    "end_date = \"2024-05-14\""
   ]
  },
  {
   "cell_type": "code",
   "execution_count": 5,
   "id": "c96dc794-1a35-403f-ab12-a563ba8b4272",
   "metadata": {},
   "outputs": [
    {
     "name": "stderr",
     "output_type": "stream",
     "text": [
      "[*********************100%%**********************]  1 of 1 completed\n"
     ]
    }
   ],
   "source": [
    "data = yf.download(symbol, start_date, end_date)"
   ]
  },
  {
   "cell_type": "code",
   "execution_count": 6,
   "id": "20dd6935-6bc4-44e2-a2cd-2e1e6743f62a",
   "metadata": {
    "tags": []
   },
   "outputs": [],
   "source": [
    "data[\"target\"] = data[\"Adj Close\"].shift(-1)"
   ]
  },
  {
   "cell_type": "code",
   "execution_count": 7,
   "id": "b87576b9-6f69-4853-8df7-1853c11798f0",
   "metadata": {
    "tags": []
   },
   "outputs": [],
   "source": [
    "data = data.dropna()"
   ]
  },
  {
   "cell_type": "code",
   "execution_count": 8,
   "id": "0cb3ac0e-5c7e-4b9c-9458-430c55dea18a",
   "metadata": {
    "tags": []
   },
   "outputs": [
    {
     "data": {
      "text/html": [
       "<div>\n",
       "<style scoped>\n",
       "    .dataframe tbody tr th:only-of-type {\n",
       "        vertical-align: middle;\n",
       "    }\n",
       "\n",
       "    .dataframe tbody tr th {\n",
       "        vertical-align: top;\n",
       "    }\n",
       "\n",
       "    .dataframe thead th {\n",
       "        text-align: right;\n",
       "    }\n",
       "</style>\n",
       "<table border=\"1\" class=\"dataframe\">\n",
       "  <thead>\n",
       "    <tr style=\"text-align: right;\">\n",
       "      <th></th>\n",
       "      <th>Adj Close</th>\n",
       "      <th>Volume</th>\n",
       "      <th>target</th>\n",
       "    </tr>\n",
       "    <tr>\n",
       "      <th>Date</th>\n",
       "      <th></th>\n",
       "      <th></th>\n",
       "      <th></th>\n",
       "    </tr>\n",
       "  </thead>\n",
       "  <tbody>\n",
       "    <tr>\n",
       "      <th>2013-01-02</th>\n",
       "      <td>2.357333</td>\n",
       "      <td>17922000</td>\n",
       "      <td>2.318000</td>\n",
       "    </tr>\n",
       "    <tr>\n",
       "      <th>2013-01-03</th>\n",
       "      <td>2.318000</td>\n",
       "      <td>11130000</td>\n",
       "      <td>2.293333</td>\n",
       "    </tr>\n",
       "    <tr>\n",
       "      <th>2013-01-04</th>\n",
       "      <td>2.293333</td>\n",
       "      <td>10110000</td>\n",
       "      <td>2.289333</td>\n",
       "    </tr>\n",
       "    <tr>\n",
       "      <th>2013-01-07</th>\n",
       "      <td>2.289333</td>\n",
       "      <td>6630000</td>\n",
       "      <td>2.245333</td>\n",
       "    </tr>\n",
       "    <tr>\n",
       "      <th>2013-01-08</th>\n",
       "      <td>2.245333</td>\n",
       "      <td>19260000</td>\n",
       "      <td>2.242667</td>\n",
       "    </tr>\n",
       "    <tr>\n",
       "      <th>...</th>\n",
       "      <td>...</td>\n",
       "      <td>...</td>\n",
       "      <td>...</td>\n",
       "    </tr>\n",
       "    <tr>\n",
       "      <th>2024-05-06</th>\n",
       "      <td>184.759995</td>\n",
       "      <td>84390300</td>\n",
       "      <td>177.809998</td>\n",
       "    </tr>\n",
       "    <tr>\n",
       "      <th>2024-05-07</th>\n",
       "      <td>177.809998</td>\n",
       "      <td>75045900</td>\n",
       "      <td>174.720001</td>\n",
       "    </tr>\n",
       "    <tr>\n",
       "      <th>2024-05-08</th>\n",
       "      <td>174.720001</td>\n",
       "      <td>79969500</td>\n",
       "      <td>171.970001</td>\n",
       "    </tr>\n",
       "    <tr>\n",
       "      <th>2024-05-09</th>\n",
       "      <td>171.970001</td>\n",
       "      <td>65950300</td>\n",
       "      <td>168.470001</td>\n",
       "    </tr>\n",
       "    <tr>\n",
       "      <th>2024-05-10</th>\n",
       "      <td>168.470001</td>\n",
       "      <td>72627200</td>\n",
       "      <td>171.889999</td>\n",
       "    </tr>\n",
       "  </tbody>\n",
       "</table>\n",
       "<p>2859 rows × 3 columns</p>\n",
       "</div>"
      ],
      "text/plain": [
       "             Adj Close    Volume      target\n",
       "Date                                        \n",
       "2013-01-02    2.357333  17922000    2.318000\n",
       "2013-01-03    2.318000  11130000    2.293333\n",
       "2013-01-04    2.293333  10110000    2.289333\n",
       "2013-01-07    2.289333   6630000    2.245333\n",
       "2013-01-08    2.245333  19260000    2.242667\n",
       "...                ...       ...         ...\n",
       "2024-05-06  184.759995  84390300  177.809998\n",
       "2024-05-07  177.809998  75045900  174.720001\n",
       "2024-05-08  174.720001  79969500  171.970001\n",
       "2024-05-09  171.970001  65950300  168.470001\n",
       "2024-05-10  168.470001  72627200  171.889999\n",
       "\n",
       "[2859 rows x 3 columns]"
      ]
     },
     "execution_count": 8,
     "metadata": {},
     "output_type": "execute_result"
    }
   ],
   "source": [
    "new_data = data[['Adj Close', 'Volume', 'target']].copy()\n",
    "new_data"
   ]
  },
  {
   "cell_type": "code",
   "execution_count": 9,
   "id": "6be6cdf2-a4ed-473f-bf58-c940fd5958e9",
   "metadata": {
    "tags": []
   },
   "outputs": [],
   "source": [
    "from sklearn.model_selection import train_test_split\n",
    "y=new_data['target']\n",
    "x=new_data.iloc[:, :-1]\n",
    "\n",
    "xtrain, xtest, ytrain, ytest = train_test_split(x,y, test_size = 0.3, shuffle=False)"
   ]
  },
  {
   "cell_type": "code",
   "execution_count": 10,
   "id": "d24a42a3-bb23-4fdc-9f48-be44ff2277b4",
   "metadata": {
    "tags": []
   },
   "outputs": [
    {
     "data": {
      "text/html": [
       "<div>\n",
       "<style scoped>\n",
       "    .dataframe tbody tr th:only-of-type {\n",
       "        vertical-align: middle;\n",
       "    }\n",
       "\n",
       "    .dataframe tbody tr th {\n",
       "        vertical-align: top;\n",
       "    }\n",
       "\n",
       "    .dataframe thead th {\n",
       "        text-align: right;\n",
       "    }\n",
       "</style>\n",
       "<table border=\"1\" class=\"dataframe\">\n",
       "  <thead>\n",
       "    <tr style=\"text-align: right;\">\n",
       "      <th></th>\n",
       "      <th>Adj Close</th>\n",
       "      <th>Volume</th>\n",
       "    </tr>\n",
       "    <tr>\n",
       "      <th>Date</th>\n",
       "      <th></th>\n",
       "      <th></th>\n",
       "    </tr>\n",
       "  </thead>\n",
       "  <tbody>\n",
       "    <tr>\n",
       "      <th>2013-01-02</th>\n",
       "      <td>2.357333</td>\n",
       "      <td>17922000</td>\n",
       "    </tr>\n",
       "    <tr>\n",
       "      <th>2013-01-03</th>\n",
       "      <td>2.318000</td>\n",
       "      <td>11130000</td>\n",
       "    </tr>\n",
       "    <tr>\n",
       "      <th>2013-01-04</th>\n",
       "      <td>2.293333</td>\n",
       "      <td>10110000</td>\n",
       "    </tr>\n",
       "    <tr>\n",
       "      <th>2013-01-07</th>\n",
       "      <td>2.289333</td>\n",
       "      <td>6630000</td>\n",
       "    </tr>\n",
       "    <tr>\n",
       "      <th>2013-01-08</th>\n",
       "      <td>2.245333</td>\n",
       "      <td>19260000</td>\n",
       "    </tr>\n",
       "  </tbody>\n",
       "</table>\n",
       "</div>"
      ],
      "text/plain": [
       "            Adj Close    Volume\n",
       "Date                           \n",
       "2013-01-02   2.357333  17922000\n",
       "2013-01-03   2.318000  11130000\n",
       "2013-01-04   2.293333  10110000\n",
       "2013-01-07   2.289333   6630000\n",
       "2013-01-08   2.245333  19260000"
      ]
     },
     "execution_count": 10,
     "metadata": {},
     "output_type": "execute_result"
    }
   ],
   "source": [
    "x.head()"
   ]
  },
  {
   "cell_type": "code",
   "execution_count": 11,
   "id": "7c260104-61aa-4781-bc15-ec898a539867",
   "metadata": {},
   "outputs": [
    {
     "data": {
      "text/html": [
       "<div>\n",
       "<style scoped>\n",
       "    .dataframe tbody tr th:only-of-type {\n",
       "        vertical-align: middle;\n",
       "    }\n",
       "\n",
       "    .dataframe tbody tr th {\n",
       "        vertical-align: top;\n",
       "    }\n",
       "\n",
       "    .dataframe thead th {\n",
       "        text-align: right;\n",
       "    }\n",
       "</style>\n",
       "<table border=\"1\" class=\"dataframe\">\n",
       "  <thead>\n",
       "    <tr style=\"text-align: right;\">\n",
       "      <th></th>\n",
       "      <th>Adj Close</th>\n",
       "      <th>Volume</th>\n",
       "    </tr>\n",
       "    <tr>\n",
       "      <th>Date</th>\n",
       "      <th></th>\n",
       "      <th></th>\n",
       "    </tr>\n",
       "  </thead>\n",
       "  <tbody>\n",
       "    <tr>\n",
       "      <th>2013-01-02</th>\n",
       "      <td>2.357333</td>\n",
       "      <td>17922000</td>\n",
       "    </tr>\n",
       "    <tr>\n",
       "      <th>2013-01-03</th>\n",
       "      <td>2.318000</td>\n",
       "      <td>11130000</td>\n",
       "    </tr>\n",
       "    <tr>\n",
       "      <th>2013-01-04</th>\n",
       "      <td>2.293333</td>\n",
       "      <td>10110000</td>\n",
       "    </tr>\n",
       "    <tr>\n",
       "      <th>2013-01-07</th>\n",
       "      <td>2.289333</td>\n",
       "      <td>6630000</td>\n",
       "    </tr>\n",
       "    <tr>\n",
       "      <th>2013-01-08</th>\n",
       "      <td>2.245333</td>\n",
       "      <td>19260000</td>\n",
       "    </tr>\n",
       "  </tbody>\n",
       "</table>\n",
       "</div>"
      ],
      "text/plain": [
       "            Adj Close    Volume\n",
       "Date                           \n",
       "2013-01-02   2.357333  17922000\n",
       "2013-01-03   2.318000  11130000\n",
       "2013-01-04   2.293333  10110000\n",
       "2013-01-07   2.289333   6630000\n",
       "2013-01-08   2.245333  19260000"
      ]
     },
     "execution_count": 11,
     "metadata": {},
     "output_type": "execute_result"
    }
   ],
   "source": [
    "x.head()"
   ]
  },
  {
   "cell_type": "code",
   "execution_count": 12,
   "id": "22dcae83-65a0-4c88-b176-73192440b8a2",
   "metadata": {},
   "outputs": [],
   "source": [
    "from sklearn.linear_model import LogisticRegression, LinearRegression\n",
    "from sklearn.tree import DecisionTreeRegressor\n",
    "from sklearn.ensemble import RandomForestRegressor\n",
    "from sklearn.neighbors import KNeighborsClassifier\n",
    "from sklearn.svm import SVC\n",
    "from sklearn.svm import LinearSVC"
   ]
  },
  {
   "cell_type": "code",
   "execution_count": 13,
   "id": "970c7766-1cae-4725-9445-17fb1fc30023",
   "metadata": {},
   "outputs": [],
   "source": [
    "mymodels = {\n",
    "    \"Linear Regression\" : LinearRegression(),\n",
    "    \"DTree\" : DecisionTreeRegressor(),\n",
    "    \"RandomForest\" : RandomForestRegressor()\n",
    "}"
   ]
  },
  {
   "cell_type": "code",
   "execution_count": 14,
   "id": "820d5d34-10b4-46f1-b6dd-8d0ca82cef80",
   "metadata": {},
   "outputs": [
    {
     "data": {
      "text/plain": [
       "Date\n",
       "2013-01-02    2.318000\n",
       "2013-01-03    2.293333\n",
       "2013-01-04    2.289333\n",
       "2013-01-07    2.245333\n",
       "2013-01-08    2.242667\n",
       "Name: target, dtype: float64"
      ]
     },
     "execution_count": 14,
     "metadata": {},
     "output_type": "execute_result"
    }
   ],
   "source": [
    "ytrain.head()"
   ]
  },
  {
   "cell_type": "code",
   "execution_count": 15,
   "id": "3d9d5203-e1ce-49d4-846b-9a923e06b0fc",
   "metadata": {
    "tags": []
   },
   "outputs": [
    {
     "name": "stdout",
     "output_type": "stream",
     "text": [
      "Algorithm in consideration = Linear Regression\n",
      "R2 Score = 0.9727777894089109\n",
      "Mean Squared Error Score = 85.9858949384281\n",
      "****************************************\n",
      "Algorithm in consideration = DTree\n",
      "R2 Score = -7.214416743728986\n",
      "Mean Squared Error Score = 3140.2790589728033\n",
      "****************************************\n",
      "Algorithm in consideration = RandomForest\n",
      "R2 Score = -12.305584829180948\n",
      "Mean Squared Error Score = 3776.6221768780524\n",
      "****************************************\n"
     ]
    }
   ],
   "source": [
    "from sklearn.metrics import r2_score, mean_squared_error\n",
    "for algo_name, algo in mymodels.items():\n",
    "    print('Algorithm in consideration = ' + algo_name)\n",
    "    algo.fit(xtrain, ytrain)\n",
    "    p=algo.predict(xtest)\n",
    "    r2score = r2_score(p, ytest)\n",
    "    msescore = mean_squared_error(ytest,p)\n",
    "    print('R2 Score = ' + str(r2score))\n",
    "    print('Mean Squared Error Score = ' + str(msescore))\n",
    "    # ascore = accuracy_score(p, ytest)\n",
    "    # pscore = precision_score(p, ytest)\n",
    "    # rscore = recall_score(p, ytest)\n",
    "    # print('Accuracy = ' + str(ascore))\n",
    "    # print('Precision = ' + str(pscore))\n",
    "    # print('Recall = ' + str(pscore))\n",
    "    print('****************************************')"
   ]
  },
  {
   "cell_type": "code",
   "execution_count": 16,
   "id": "d358ecc4-bf6e-4021-bfc1-8411c354ebf9",
   "metadata": {},
   "outputs": [],
   "source": [
    "linear_regression = LinearRegression()\n",
    "linear_regression.fit(xtrain, ytrain)\n",
    "p_lr = linear_regression.predict(xtest)"
   ]
  },
  {
   "cell_type": "code",
   "execution_count": 17,
   "id": "c528b395-a1f6-4bcc-b532-8d0ee59e15d5",
   "metadata": {},
   "outputs": [],
   "source": [
    "import pandas as pd\n",
    "\n",
    "# visualization libraries\n",
    "import matplotlib.pyplot as plt\n",
    "import seaborn as sns\n",
    "\n",
    "\n",
    "# print the graphs in the notebook\n",
    "%matplotlib inline\n",
    "\n",
    "# set seaborn style to white\n",
    "sns.set_style(\"white\")"
   ]
  },
  {
   "cell_type": "code",
   "execution_count": 18,
   "id": "67b05498-6f10-4482-9a48-3733236cabd0",
   "metadata": {},
   "outputs": [
    {
     "data": {
      "text/html": [
       "<div>\n",
       "<style scoped>\n",
       "    .dataframe tbody tr th:only-of-type {\n",
       "        vertical-align: middle;\n",
       "    }\n",
       "\n",
       "    .dataframe tbody tr th {\n",
       "        vertical-align: top;\n",
       "    }\n",
       "\n",
       "    .dataframe thead th {\n",
       "        text-align: right;\n",
       "    }\n",
       "</style>\n",
       "<table border=\"1\" class=\"dataframe\">\n",
       "  <thead>\n",
       "    <tr style=\"text-align: right;\">\n",
       "      <th></th>\n",
       "      <th>Adj Close</th>\n",
       "      <th>Volume</th>\n",
       "      <th>target</th>\n",
       "    </tr>\n",
       "    <tr>\n",
       "      <th>Date</th>\n",
       "      <th></th>\n",
       "      <th></th>\n",
       "      <th></th>\n",
       "    </tr>\n",
       "  </thead>\n",
       "  <tbody>\n",
       "    <tr>\n",
       "      <th>2013-01-02</th>\n",
       "      <td>2.357333</td>\n",
       "      <td>17922000</td>\n",
       "      <td>2.318000</td>\n",
       "    </tr>\n",
       "    <tr>\n",
       "      <th>2013-01-03</th>\n",
       "      <td>2.318000</td>\n",
       "      <td>11130000</td>\n",
       "      <td>2.293333</td>\n",
       "    </tr>\n",
       "    <tr>\n",
       "      <th>2013-01-04</th>\n",
       "      <td>2.293333</td>\n",
       "      <td>10110000</td>\n",
       "      <td>2.289333</td>\n",
       "    </tr>\n",
       "    <tr>\n",
       "      <th>2013-01-07</th>\n",
       "      <td>2.289333</td>\n",
       "      <td>6630000</td>\n",
       "      <td>2.245333</td>\n",
       "    </tr>\n",
       "    <tr>\n",
       "      <th>2013-01-08</th>\n",
       "      <td>2.245333</td>\n",
       "      <td>19260000</td>\n",
       "      <td>2.242667</td>\n",
       "    </tr>\n",
       "  </tbody>\n",
       "</table>\n",
       "</div>"
      ],
      "text/plain": [
       "            Adj Close    Volume    target\n",
       "Date                                     \n",
       "2013-01-02   2.357333  17922000  2.318000\n",
       "2013-01-03   2.318000  11130000  2.293333\n",
       "2013-01-04   2.293333  10110000  2.289333\n",
       "2013-01-07   2.289333   6630000  2.245333\n",
       "2013-01-08   2.245333  19260000  2.242667"
      ]
     },
     "execution_count": 18,
     "metadata": {},
     "output_type": "execute_result"
    }
   ],
   "source": [
    "new_data.head()"
   ]
  },
  {
   "cell_type": "code",
   "execution_count": 19,
   "id": "7abf41b1-85b4-4f8f-a2ff-a0ad793007b3",
   "metadata": {},
   "outputs": [
    {
     "data": {
      "text/plain": [
       "Date\n",
       "2024-05-06    177.809998\n",
       "2024-05-07    174.720001\n",
       "2024-05-08    171.970001\n",
       "2024-05-09    168.470001\n",
       "2024-05-10    171.889999\n",
       "Name: target, dtype: float64"
      ]
     },
     "execution_count": 19,
     "metadata": {},
     "output_type": "execute_result"
    }
   ],
   "source": [
    "ytest.tail()"
   ]
  },
  {
   "cell_type": "code",
   "execution_count": 20,
   "id": "0f84fb9b-e871-4fe6-9a10-801b8710ce77",
   "metadata": {
    "tags": []
   },
   "outputs": [
    {
     "data": {
      "image/png": "[encoded data removed]",
      "text/plain": [
       "<Figure size 1400x700 with 1 Axes>"
      ]
     },
     "metadata": {},
     "output_type": "display_data"
    }
   ],
   "source": [
    "plt.figure(figsize=(14, 7))\n",
    "plt.plot(new_data.index[-len(ytest):].values, ytest.values, label='Actual Prices', color='blue')\n",
    "plt.plot(new_data.index[-len(ytest):].values, p_lr, label='Predicted Prices', color='orange')\n",
    "plt.title('Stock Price Prediction with Linear Regression ('+symbol+')')\n",
    "plt.xlabel('Date')\n",
    "plt.ylabel('Price')\n",
    "plt.legend()\n",
    "plt.show()"
   ]
  },
  {
   "cell_type": "code",
   "execution_count": null,
   "id": "ab7ed945-5ed8-4f29-a08d-f4087a29aee8",
   "metadata": {},
   "outputs": [],
   "source": []
  }
 ],
 "metadata": {
  "kernelspec": {
   "display_name": "Python 3.8 - AzureML",
   "language": "python",
   "name": "python38-azureml"
  },
  "language_info": {
   "codemirror_mode": {
    "name": "ipython",
    "version": 3
   },
   "file_extension": ".py",
   "mimetype": "text/x-python",
   "name": "python",
   "nbconvert_exporter": "python",
   "pygments_lexer": "ipython3",
   "version": "3.8.5"
  }
 },
 "nbformat": 4,
 "nbformat_minor": 5
}
