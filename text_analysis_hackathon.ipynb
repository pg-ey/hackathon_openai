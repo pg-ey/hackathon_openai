{
 "cells": [
  {
   "cell_type": "code",
   "execution_count": 1,
   "id": "9c98dbc9-b9fe-454d-a805-eafc054cda1e",
   "metadata": {},
   "outputs": [
    {
     "name": "stdout",
     "output_type": "stream",
     "text": [
      "Requirement already satisfied: finnhub-python in /anaconda/envs/azureml_py38/lib/python3.8/site-packages (2.4.19)\n",
      "Requirement already satisfied: requests>=2.22.0 in /anaconda/envs/azureml_py38/lib/python3.8/site-packages (from finnhub-python) (2.31.0)\n",
      "Requirement already satisfied: idna<4,>=2.5 in /anaconda/envs/azureml_py38/lib/python3.8/site-packages (from requests>=2.22.0->finnhub-python) (3.4)\n",
      "Requirement already satisfied: certifi>=2017.4.17 in /anaconda/envs/azureml_py38/lib/python3.8/site-packages (from requests>=2.22.0->finnhub-python) (2022.9.24)\n",
      "Requirement already satisfied: urllib3<3,>=1.21.1 in /anaconda/envs/azureml_py38/lib/python3.8/site-packages (from requests>=2.22.0->finnhub-python) (1.26.16)\n",
      "Requirement already satisfied: charset-normalizer<4,>=2 in /anaconda/envs/azureml_py38/lib/python3.8/site-packages (from requests>=2.22.0->finnhub-python) (3.1.0)\n",
      "Note: you may need to restart the kernel to use updated packages.\n"
     ]
    }
   ],
   "source": [
    "pip install finnhub-python\n",
    "pip install azure-ai-textanalytics==5.2.0"
   ]
  },
  {
   "cell_type": "code",
   "execution_count": 81,
   "id": "66797572-5adb-49de-a64f-08084ef2d558",
   "metadata": {
    "tags": []
   },
   "outputs": [
    {
     "data": {
      "text/plain": [
       "[{'category': 'company',\n",
       "  'datetime': 1715719431,\n",
       "  'headline': 'Amazon Web Services CEO to resign, effective June 3',\n",
       "  'id': 127695012,\n",
       "  'image': 'https://s.yimg.com/ny/api/res/1.2/QY9dTUqvuK8Kzbnm9n1R5A--/YXBwaWQ9aGlnaGxhbmRlcjt3PTEyMDA7aD02NzU-/https://s.yimg.com/os/creatr-uploaded-images/2024-05/2067a140-122f-11ef-be4f-2e595b25f269',\n",
       "  'related': 'AMZN',\n",
       "  'source': 'Yahoo',\n",
       "  'summary': \"Amazon's (AMZN) cloud computing arm, Amazon Web Services (AWS), is undergoing a leadership transition. Adam Selipsky, the CEO of AWS, has announced his resignation after an 18-year tenure. Effective June 3, Matt Garman will be the new CEO of AWS. Yahoo Finance's Josh Lipton and Julie Hyman break down the details. For more expert insight and the latest market action, click here to watch this full episode of Market Domination Overtime. This post was written by Angel Smith\",\n",
       "  'url': 'https://finnhub.io/api/news?id=fc03d89295ecb6af9660b4ed9c2d5e2fabaa3d338994dc2ab7efeff664ee85b7'},\n",
       " {'category': 'company',\n",
       "  'datetime': 1715715279,\n",
       "  'headline': 'Amazon Web Services Undergoes Leadership Change, Matt Garman to Take Over as CEO',\n",
       "  'id': 127688578,\n",
       "  'image': 'https://media.zenfs.com/en/Benzinga/98dfab1e66987492393f836d3a85fc32',\n",
       "  'related': 'AMZN',\n",
       "  'source': 'Yahoo',\n",
       "  'summary': \"Amazon.Com, Inc (NASDAQ:AMZN) stock is trading lower amid reports of leadership change in its cloud unit Amazon Web Services (AWS). Matt Garman will succeed Amazon Web Services CEO Adam Selipsky, effective June 3, Bloomberg reports. Garman is the Amazon cloud unit's leading sales and marketing executive. Selipsky led AWS since 2021. The cloud unit accounts for most of Amazon's profit. In April, AWS initiated global job cuts involving several hundred positions in Sales, Marketing, Global Services\",\n",
       "  'url': 'https://finnhub.io/api/news?id=942d64d7d3ac1096dda5f210d7c0e735bc27035cb2b00ca2863c74f2ef34c859'},\n",
       " {'category': 'company',\n",
       "  'datetime': 1715713162,\n",
       "  'headline': 'Amazon Names New AWS Chief as AI Race With Microsoft Heats Up',\n",
       "  'id': 127688579,\n",
       "  'image': 'https://s.yimg.com/ny/api/res/1.2/vMRnqm38QwxLXrv4cGLC8Q--/YXBwaWQ9aGlnaGxhbmRlcjt3PTEyMDA7aD03OTk-/https://media.zenfs.com/en/bloomberg_technology_68/f19db33d0d2cb32a631b2ea748ea7941',\n",
       "  'related': 'AMZN',\n",
       "  'source': 'Yahoo',\n",
       "  'summary': '(Bloomberg) -- Amazon.com Inc.’s newly named cloud chief, Matt Garman, inherits a $100-billion-a-year business that’s as profitable as it has ever been. He also faces the daunting task of retaining the cloud-computing pioneer’s edge in the artificial intelligence age.Most Read from BloombergTrump Vows ‘Day One’ Executive Order Targeting Offshore WindBiden Accuses China of ‘Cheating’ on Trade, Imposes New TariffsFlood of China Used Cooking Oil Spurs Call to Hike US LeviesMacron Puts French Banks',\n",
       "  'url': 'https://finnhub.io/api/news?id=c1bfaa89c99892c783961b020745e0e40d7f30df0ca430c8678447d13f49ef3d'},\n",
       " {'category': 'company',\n",
       "  'datetime': 1715712312,\n",
       "  'headline': \"Jeff Bezos' Mom Was A Single Teen Who Took Him To Night School With Her As An Infant — She Made $190 A Month And Now She's Worth $30 Billion\",\n",
       "  'id': 127688580,\n",
       "  'image': 'https://s.yimg.com/cv/apiv2/social/images/yahoo_default_logo-1200x1200.png',\n",
       "  'related': 'AMZN',\n",
       "  'source': 'Yahoo',\n",
       "  'summary': \"The tale of Jeff Bezos, who started Amazon from his garage, is legendary, but the story of his mother, Jacklyn Bezos, is equally compelling. Jacklyn, a determined teenager in Albuquerque, New Mexico, overcame substantial obstacles. She faced financial hardship and societal pressures as a single teen mother, yet she managed to raise her son, who would become one of the world's richest individuals with a net worth of $205 billion, according to Forbes. Don't Miss: No generation before Gen Z has had\",\n",
       "  'url': 'https://finnhub.io/api/news?id=be2e0362bd60cb59ef54ed3fc7d3c47fbd6143dcc074ee670fad5b579f8a1ab0'},\n",
       " {'category': 'company',\n",
       "  'datetime': 1715702719,\n",
       "  'headline': 'Amazon Cloud CEO Stepping Down, With AWS Veteran Named To Role',\n",
       "  'id': 127688584,\n",
       "  'image': 'https://media.zenfs.com/en/ibd.com/273b690bc6b1670f53f112b820e03f3f',\n",
       "  'related': 'AMZN',\n",
       "  'source': 'Yahoo',\n",
       "  'summary': \"The leader of Amazon's cloud-services division, Amazon Web Services, will step down early next month, the tech giant announced Tuesday.  Amazon stock edged lower in morning trades.  Amazon said that AWS Chief Executive Adam Selipsky will be replaced by Matt Garman, AWS' current sales and marketing leader.\",\n",
       "  'url': 'https://finnhub.io/api/news?id=b5195ba69a20b7e5fe690d5bcd032ef511b913e81cc282de8e4a31a70f2a73b9'},\n",
       " {'category': 'company',\n",
       "  'datetime': 1715698320,\n",
       "  'headline': 'Amazon Stock Falls After a Key CEO Steps Down',\n",
       "  'id': 127688587,\n",
       "  'image': 'https://s.yimg.com/ny/api/res/1.2/liVM3oMqnEPwPCHg.Op9cw--/YXBwaWQ9aGlnaGxhbmRlcjt3PTEyMDA7aD02MDA-/https://media.zenfs.com/en/Barrons.com/f6cd90775524ae0d7a02553179d46562',\n",
       "  'related': 'AMZN',\n",
       "  'source': 'Yahoo',\n",
       "  'summary': 'Adam Selipsky, chief executive officer of  Amazon  Web Services, is stepping down in June, the company announced Tuesday.  Amazon.com’s  cloud computing business announced that Matt Garman, senior vice president of sales and marketing at AWS, will take Selipsky’s place on June 3.  Shares of  Amazon  were down 1.1% Tuesday to $184.90.',\n",
       "  'url': 'https://finnhub.io/api/news?id=419d2b35f864659e5b33672987416c16e14b7bdc877c24616bb04eacf03941ab'},\n",
       " {'category': 'company',\n",
       "  'datetime': 1715693851,\n",
       "  'headline': \"UPDATE 4-Amazon's cloud unit chief to step down after three years\",\n",
       "  'id': 127688591,\n",
       "  'image': 'https://s.yimg.com/cv/apiv2/social/images/yahoo_default_logo-1200x1200.png',\n",
       "  'related': 'AMZN',\n",
       "  'source': 'Yahoo',\n",
       "  'summary': \"The chief of Amazon.com's wildly profitable Amazon Web Services cloud computing unit will step down next month after a three-year term, the company said on Tuesday.  Adam Selipsky, 57, who is also a member of Amazon's team advising CEO Andy Jassy, will leave the company on June 3.  Selipsky has spent 14 years at AWS over two stints.\",\n",
       "  'url': 'https://finnhub.io/api/news?id=cb7305960366f8abf16f1654412d0393510738543e3528b70d912f274976e50f'},\n",
       " {'category': 'company',\n",
       "  'datetime': 1715693587,\n",
       "  'headline': \"Amazon's cloud unit chief to step down after three years\",\n",
       "  'id': 127688593,\n",
       "  'image': 'https://media.zenfs.com/en/reuters-finance.com/5fee0d32f2c40ac7b19db324566626e4',\n",
       "  'related': 'AMZN',\n",
       "  'source': 'Yahoo',\n",
       "  'summary': \"(Reuters) -The chief of Amazon.com's wildly profitable Amazon Web Services cloud computing unit will step down next month after a three-year term, the company said on Tuesday.  Adam Selipsky, 57, who is also a member of Amazon's team advising CEO Andy Jassy, will leave the company on June 3.  Selipsky has spent 14 years at AWS over two stints.\",\n",
       "  'url': 'https://finnhub.io/api/news?id=f77475fc00b7d3956285f4325bf846f9454953a7ecc576105f5c07f90c1a84c2'},\n",
       " {'category': 'company',\n",
       "  'datetime': 1715682173,\n",
       "  'headline': 'Amazon: AWS CEO to step down soon',\n",
       "  'id': 127680929,\n",
       "  'image': '',\n",
       "  'related': 'AMZN',\n",
       "  'source': 'Finnhub',\n",
       "  'summary': 'Amazon.com announced on Tuesday that Adam Selipsky would be stepping down as CEO of AWS, its cloud computing division, on June 3, to be replaced by Matt Garman, an in-house executive.The announcement...',\n",
       "  'url': 'https://finnhub.io/api/news?id=165f9bde609ef08d98564fca22c79726b1fae9679717be16a679d8aa7da2dc80'},\n",
       " {'category': 'company',\n",
       "  'datetime': 1715617630,\n",
       "  'headline': \"Top Midday Stories: Return of 'Roaring Kitty' Lifts GameStop Shares; Intel, Apollo Near Deal on Ireland Plant; BHP Latest Offer Rejected by Anglo American; Squarespace Acquired by Permira; Amazon Autonomous Driving Under Probe\",\n",
       "  'id': 127659558,\n",
       "  'image': 'https://s.yimg.com/cv/apiv2/social/images/yahoo_default_logo-1200x1200.png',\n",
       "  'related': 'AMZN',\n",
       "  'source': 'Yahoo',\n",
       "  'summary': \"Top Midday Stories: Return of 'Roaring Kitty' Lifts GameStop Shares; Intel, Apollo Near Deal on Ireland Plant; BHP Latest Offer Rejected by Anglo American; Squarespace Acquired by Permira; Amazon Autonomous Driving Under Probe\",\n",
       "  'url': 'https://finnhub.io/api/news?id=c397cc403f6873f83752ff46299b0210a7060de21774f3e5703eafc251e47576'},\n",
       " {'category': 'company',\n",
       "  'datetime': 1715611520,\n",
       "  'headline': '30 Hardest Colleges to Get Into in the US',\n",
       "  'id': 127663424,\n",
       "  'image': 'https://media.zenfs.com/en/insidermonkey.com/812d9da494de308731e572925c2fbd87',\n",
       "  'related': 'AMZN',\n",
       "  'source': 'Yahoo',\n",
       "  'summary': 'In this article, we list and discuss the 30 Hardest Colleges to Get Into in the US. If you would like to skip our detailed discussion of the topic, you can go directly to the top 6 Hardest Colleges to Get Into in the US. Quality education undoubtedly sets a person up for success. According […]',\n",
       "  'url': 'https://finnhub.io/api/news?id=cc5ce2e044982aeda5c2c74fbf3f621c6c0442a6c8bed2afa2c114cf9e7fd34e'},\n",
       " {'category': 'company',\n",
       "  'datetime': 1715594631,\n",
       "  'headline': 'TV upfront presentations clouded by digital video ad supremacy',\n",
       "  'id': 127655395,\n",
       "  'image': 'https://media.zenfs.com/en/reuters-finance.com/7bfbd71b3477a4d23d7fc9cdc6e35ece',\n",
       "  'related': 'AMZN',\n",
       "  'source': 'Yahoo',\n",
       "  'summary': \"As television executives prepare lavish stage presentations in New York this week to dazzle advertisers during the annual TV upfront sales season, a harsh economic reality looms offstage -- digital video advertising now eclipses spending on traditional television ads.  The shift in spending and competition from tech players like Amazon has taken a toll on media companies' financial results, raising the stakes for the annual showcase of TV content to attract spending commitments from advertisers.\",\n",
       "  'url': 'https://finnhub.io/api/news?id=5db077a1d2632ce88175ef5a77281fd82dcc6f7ce796907982a29e4e0c88316f'},\n",
       " {'category': 'company',\n",
       "  'datetime': 1715594117,\n",
       "  'headline': 'Meta, Apple are investing in tech that can decode your thoughts',\n",
       "  'id': 127655353,\n",
       "  'image': 'https://s.yimg.com/ny/api/res/1.2/jMFXEoPylr25szamkjoMXA--/YXBwaWQ9aGlnaGxhbmRlcjt3PTEyMDA7aD02NzU-/https://s.yimg.com/os/creatr-uploaded-images/2024-05/232bcc60-0ee4-11ef-bbb7-d959e1b31d24',\n",
       "  'related': 'AMZN',\n",
       "  'source': 'Yahoo',\n",
       "  'summary': \"AI can now decode your brain activity—a fancy way of saying mind reading. Big tech companies like Meta (META) are backing research into this field, including products that can decode thoughts without requiring surgery. The big question: what does our world look like if big tech companies can read your mind? Tech companies are building off neurotech advancements in the medical world. Meta is backing a team of neuroscientists whose research uncovered nonsurgical ways to detect brain activity and speech to interpret your thoughts. In 2022, Apple (AAPL) also filed a patent for AirPods that uses EEG technology to measure biosignals and electrical activity of a user's brain. Noninvasive mind reading can be revolutionary in medicine for patients - it can also be used by big tech for consumer-facing products that put privacy at risk. Neurorights advocates believe our thoughts are the last piece of data we have left to ourselves. That’s why they are now fighting for legislation that would safeguard our mental privacy while tech companies continue funding brain-scanning research. If you’re going to future-proof your portfolio, you need to know what’s NEXT in the business of neurotechnology. In this series, Yahoo Finance will feature stories that give a glimpse at the future, and show how companies are making big moves today that will matter tomorrow. For more on our NEXT series, click here, and tune in to Yahoo Finance Live for more expert insight and the latest market action, Monday through Friday.\",\n",
       "  'url': 'https://finnhub.io/api/news?id=f6835788bf4dc96dfebdbe9c36b2f16a1b9963bc1506e256d91412b0e73c4875'},\n",
       " {'category': 'company',\n",
       "  'datetime': 1715580805,\n",
       "  'headline': 'Amazon to invest $1.3 billion in France, create 3,000 jobs',\n",
       "  'id': 127654740,\n",
       "  'image': 'https://media.zenfs.com/en/reuters-finance.com/5cf1fb93c68b5a19c9bc5954434ba8e3',\n",
       "  'related': 'AMZN',\n",
       "  'source': 'Yahoo',\n",
       "  'summary': 'Amazon said on Monday it would invest more than 1.2 billion euros ($1.3 billion) in its French operations and create more than 3,000 permanent jobs in the country.  The French presidency had said on Sunday that Amazon and other companies, including GSK and Accenture, would announce investments worth billions as part of the country\\'s annual \"Choose France\" event, which begins on Monday.  Amazon Web Services\\' (AWS) investment would increase cloud infrastructure in the Paris area to support France\\'s flourishing generative AI opportunity, and logistics infrastructure in the Auvergne-Rhône-Alpes region, the company said in a statement.',\n",
       "  'url': 'https://finnhub.io/api/news?id=14b4843f78ae2982f28cc8a4a4b4f97b2230f5e39361b14985469b61227dc11d'},\n",
       " {'category': 'company',\n",
       "  'datetime': 1715580633,\n",
       "  'headline': 'UPDATE 1-Amazon to invest $1.3 bln in France, create 3,000 jobs',\n",
       "  'id': 127653464,\n",
       "  'image': 'https://s.yimg.com/cv/apiv2/social/images/yahoo_default_logo-1200x1200.png',\n",
       "  'related': 'AMZN',\n",
       "  'source': 'Yahoo',\n",
       "  'summary': 'Amazon said on Monday it would invest more than 1.2 billion euros ($1.3 billion) in its French operations and create more than 3,000 permanent jobs in the country.  The French presidency had said on Sunday that Amazon and other companies, including GSK and Accenture, would announce investments worth billions as part of the country\\'s annual \"Choose France\" event, which begins on Monday.  Amazon Web Services\\' (AWS) investment would increase cloud infrastructure in the Paris area to support France\\'s flourishing generative AI opportunity, and logistics infrastructure in the Auvergne-Rhône-Alpes region, the company said in a statement.',\n",
       "  'url': 'https://finnhub.io/api/news?id=01f343086757d1fc0c72cf415123e3f3cad9a7c166aa5d7769b20bb0f0940d8a'},\n",
       " {'category': 'company',\n",
       "  'datetime': 1715566345,\n",
       "  'headline': 'Amazon: 1.2 billion euro investment plan in France',\n",
       "  'id': 127653377,\n",
       "  'image': '',\n",
       "  'related': 'AMZN',\n",
       "  'source': 'Finnhub',\n",
       "  'summary': 'On the occasion of the Choose France Summit, Amazon announces an investment plan of more than 1.2 billion euros in France and the creation of more than 3,000 permanent jobs, in addition to the 2,000...',\n",
       "  'url': 'https://finnhub.io/api/news?id=8d7fdad37416fb7b1f55368b27e198ab176e2fce57c602c439d94ec68b1ce6e6'}]"
      ]
     },
     "execution_count": 81,
     "metadata": {},
     "output_type": "execute_result"
    }
   ],
   "source": [
    "import finnhub\n",
    "\n",
    "# Setup client\n",
    "finnhub_client = finnhub.Client(api_key=\"cp26h6hr01qhquut6qh0cp26h6hr01qhquut6qhg\")\n",
    "news = finnhub_client.company_news('AMZN', _from=\"2024-05-13\", to=\"2024-05-14\")\n",
    "filtered_news = [d for d in news if d['summary'] != 'Looking for stock market analysis and research with proves results? Zacks.com offers in-depth financial research with over 30years of proven results.' and len(d['summary'])>200]\n",
    "filtered_news"
   ]
  },
  {
   "cell_type": "code",
   "execution_count": 82,
   "id": "5fe44387-aab5-4704-b6fb-b030ae173e4e",
   "metadata": {
    "tags": []
   },
   "outputs": [],
   "source": [
    "latest = filtered_news[-10:]\n",
    "# latest = news[-10:]\n",
    "latest_summary = [d['summary'] for d in latest]"
   ]
  },
  {
   "cell_type": "code",
   "execution_count": 83,
   "id": "d2988b8b-eee1-432b-b25c-c355ef1c4044",
   "metadata": {},
   "outputs": [
    {
     "data": {
      "text/plain": [
       "[\"The chief of Amazon.com's wildly profitable Amazon Web Services cloud computing unit will step down next month after a three-year term, the company said on Tuesday.  Adam Selipsky, 57, who is also a member of Amazon's team advising CEO Andy Jassy, will leave the company on June 3.  Selipsky has spent 14 years at AWS over two stints.\",\n",
       " \"(Reuters) -The chief of Amazon.com's wildly profitable Amazon Web Services cloud computing unit will step down next month after a three-year term, the company said on Tuesday.  Adam Selipsky, 57, who is also a member of Amazon's team advising CEO Andy Jassy, will leave the company on June 3.  Selipsky has spent 14 years at AWS over two stints.\",\n",
       " 'Amazon.com announced on Tuesday that Adam Selipsky would be stepping down as CEO of AWS, its cloud computing division, on June 3, to be replaced by Matt Garman, an in-house executive.The announcement...',\n",
       " \"Top Midday Stories: Return of 'Roaring Kitty' Lifts GameStop Shares; Intel, Apollo Near Deal on Ireland Plant; BHP Latest Offer Rejected by Anglo American; Squarespace Acquired by Permira; Amazon Autonomous Driving Under Probe\",\n",
       " 'In this article, we list and discuss the 30 Hardest Colleges to Get Into in the US. If you would like to skip our detailed discussion of the topic, you can go directly to the top 6 Hardest Colleges to Get Into in the US. Quality education undoubtedly sets a person up for success. According […]',\n",
       " \"As television executives prepare lavish stage presentations in New York this week to dazzle advertisers during the annual TV upfront sales season, a harsh economic reality looms offstage -- digital video advertising now eclipses spending on traditional television ads.  The shift in spending and competition from tech players like Amazon has taken a toll on media companies' financial results, raising the stakes for the annual showcase of TV content to attract spending commitments from advertisers.\",\n",
       " \"AI can now decode your brain activity—a fancy way of saying mind reading. Big tech companies like Meta (META) are backing research into this field, including products that can decode thoughts without requiring surgery. The big question: what does our world look like if big tech companies can read your mind? Tech companies are building off neurotech advancements in the medical world. Meta is backing a team of neuroscientists whose research uncovered nonsurgical ways to detect brain activity and speech to interpret your thoughts. In 2022, Apple (AAPL) also filed a patent for AirPods that uses EEG technology to measure biosignals and electrical activity of a user's brain. Noninvasive mind reading can be revolutionary in medicine for patients - it can also be used by big tech for consumer-facing products that put privacy at risk. Neurorights advocates believe our thoughts are the last piece of data we have left to ourselves. That’s why they are now fighting for legislation that would safeguard our mental privacy while tech companies continue funding brain-scanning research. If you’re going to future-proof your portfolio, you need to know what’s NEXT in the business of neurotechnology. In this series, Yahoo Finance will feature stories that give a glimpse at the future, and show how companies are making big moves today that will matter tomorrow. For more on our NEXT series, click here, and tune in to Yahoo Finance Live for more expert insight and the latest market action, Monday through Friday.\",\n",
       " 'Amazon said on Monday it would invest more than 1.2 billion euros ($1.3 billion) in its French operations and create more than 3,000 permanent jobs in the country.  The French presidency had said on Sunday that Amazon and other companies, including GSK and Accenture, would announce investments worth billions as part of the country\\'s annual \"Choose France\" event, which begins on Monday.  Amazon Web Services\\' (AWS) investment would increase cloud infrastructure in the Paris area to support France\\'s flourishing generative AI opportunity, and logistics infrastructure in the Auvergne-Rhône-Alpes region, the company said in a statement.',\n",
       " 'Amazon said on Monday it would invest more than 1.2 billion euros ($1.3 billion) in its French operations and create more than 3,000 permanent jobs in the country.  The French presidency had said on Sunday that Amazon and other companies, including GSK and Accenture, would announce investments worth billions as part of the country\\'s annual \"Choose France\" event, which begins on Monday.  Amazon Web Services\\' (AWS) investment would increase cloud infrastructure in the Paris area to support France\\'s flourishing generative AI opportunity, and logistics infrastructure in the Auvergne-Rhône-Alpes region, the company said in a statement.',\n",
       " 'On the occasion of the Choose France Summit, Amazon announces an investment plan of more than 1.2 billion euros in France and the creation of more than 3,000 permanent jobs, in addition to the 2,000...']"
      ]
     },
     "execution_count": 83,
     "metadata": {},
     "output_type": "execute_result"
    }
   ],
   "source": [
    "latest_summary"
   ]
  },
  {
   "cell_type": "code",
   "execution_count": 84,
   "id": "c2bacacc-8dc5-4b7f-938d-3094c7d5b8d5",
   "metadata": {},
   "outputs": [
    {
     "name": "stdout",
     "output_type": "stream",
     "text": [
      "Requirement already satisfied: azure-cognitiveservices-language-textanalytics in /anaconda/envs/azureml_py38/lib/python3.8/site-packages (0.2.2)\n",
      "Requirement already satisfied: msrest>=0.6.21 in /anaconda/envs/azureml_py38/lib/python3.8/site-packages (from azure-cognitiveservices-language-textanalytics) (0.7.1)\n",
      "Requirement already satisfied: azure-mgmt-core<2.0.0,>=1.2.0 in /anaconda/envs/azureml_py38/lib/python3.8/site-packages (from azure-cognitiveservices-language-textanalytics) (1.4.0)\n",
      "Requirement already satisfied: azure-common~=1.1 in /anaconda/envs/azureml_py38/lib/python3.8/site-packages (from azure-cognitiveservices-language-textanalytics) (1.1.28)\n",
      "Requirement already satisfied: certifi>=2017.4.17 in /anaconda/envs/azureml_py38/lib/python3.8/site-packages (from msrest>=0.6.21->azure-cognitiveservices-language-textanalytics) (2022.9.24)\n",
      "Requirement already satisfied: azure-core>=1.24.0 in /anaconda/envs/azureml_py38/lib/python3.8/site-packages (from msrest>=0.6.21->azure-cognitiveservices-language-textanalytics) (1.26.4)\n",
      "Requirement already satisfied: requests-oauthlib>=0.5.0 in /anaconda/envs/azureml_py38/lib/python3.8/site-packages (from msrest>=0.6.21->azure-cognitiveservices-language-textanalytics) (1.3.1)\n",
      "Requirement already satisfied: requests~=2.16 in /anaconda/envs/azureml_py38/lib/python3.8/site-packages (from msrest>=0.6.21->azure-cognitiveservices-language-textanalytics) (2.31.0)\n",
      "Requirement already satisfied: isodate>=0.6.0 in /anaconda/envs/azureml_py38/lib/python3.8/site-packages (from msrest>=0.6.21->azure-cognitiveservices-language-textanalytics) (0.6.1)\n",
      "Requirement already satisfied: typing-extensions>=4.3.0 in /anaconda/envs/azureml_py38/lib/python3.8/site-packages (from azure-core>=1.24.0->msrest>=0.6.21->azure-cognitiveservices-language-textanalytics) (4.11.0)\n",
      "Requirement already satisfied: six>=1.11.0 in /anaconda/envs/azureml_py38/lib/python3.8/site-packages (from azure-core>=1.24.0->msrest>=0.6.21->azure-cognitiveservices-language-textanalytics) (1.16.0)\n",
      "Requirement already satisfied: oauthlib>=3.0.0 in /anaconda/envs/azureml_py38/lib/python3.8/site-packages (from requests-oauthlib>=0.5.0->msrest>=0.6.21->azure-cognitiveservices-language-textanalytics) (3.2.2)\n",
      "Requirement already satisfied: idna<4,>=2.5 in /anaconda/envs/azureml_py38/lib/python3.8/site-packages (from requests~=2.16->msrest>=0.6.21->azure-cognitiveservices-language-textanalytics) (3.4)\n",
      "Requirement already satisfied: urllib3<3,>=1.21.1 in /anaconda/envs/azureml_py38/lib/python3.8/site-packages (from requests~=2.16->msrest>=0.6.21->azure-cognitiveservices-language-textanalytics) (1.26.16)\n",
      "Requirement already satisfied: charset-normalizer<4,>=2 in /anaconda/envs/azureml_py38/lib/python3.8/site-packages (from requests~=2.16->msrest>=0.6.21->azure-cognitiveservices-language-textanalytics) (3.1.0)\n",
      "Note: you may need to restart the kernel to use updated packages.\n"
     ]
    }
   ],
   "source": [
    "pip install azure-cognitiveservices-language-textanalytics"
   ]
  },
  {
   "cell_type": "code",
   "execution_count": 85,
   "id": "c65140bd-ed8d-45bf-817e-56bec3fd462b",
   "metadata": {},
   "outputs": [],
   "source": [
    "language_key = '0539feb6064c443a848c4d87962dd2c2'\n",
    "language_endpoint = 'https://pgcvtraining.cognitiveservices.azure.com/'\n",
    "\n",
    "from azure.ai.textanalytics import TextAnalyticsClient\n",
    "from azure.core.credentials import AzureKeyCredential\n",
    "\n",
    "# Authenticate the client using your key and endpoint \n",
    "def authenticate_client():\n",
    "    ta_credential = AzureKeyCredential(language_key)\n",
    "    text_analytics_client = TextAnalyticsClient(\n",
    "            endpoint=language_endpoint, \n",
    "            credential=ta_credential)\n",
    "    return text_analytics_client\n",
    "\n",
    "client = authenticate_client()"
   ]
  },
  {
   "cell_type": "code",
   "execution_count": 86,
   "id": "9900540f-dcc7-466b-9937-a2bb025b4bb0",
   "metadata": {
    "tags": []
   },
   "outputs": [
    {
     "name": "stdout",
     "output_type": "stream",
     "text": [
      "[AnalyzeSentimentResult(id=0, sentiment=neutral, warnings=[], statistics=None, confidence_scores=SentimentConfidenceScores(positive=0.05, neutral=0.93, negative=0.02), sentences=[SentenceSentiment(text=The chief of Amazon.com's wildly profitable Amazon Web Services cloud computing unit will step down next month after a three-year term, the company said on Tuesday.  , sentiment=neutral, confidence_scores=SentimentConfidenceScores(positive=0.07, neutral=0.91, negative=0.02), length=166, offset=0, mined_opinions=[]), SentenceSentiment(text=Adam Selipsky, 57, who is also a member of Amazon's team advising CEO Andy Jassy, will leave the company on June 3.  , sentiment=neutral, confidence_scores=SentimentConfidenceScores(positive=0.06, neutral=0.89, negative=0.05), length=117, offset=166, mined_opinions=[]), SentenceSentiment(text=Selipsky has spent 14 years at AWS over two stints., sentiment=neutral, confidence_scores=SentimentConfidenceScores(positive=0.01, neutral=0.99, negative=0.0), length=51, offset=283, mined]\n",
      "[AnalyzeSentimentResult(id=0, sentiment=neutral, warnings=[], statistics=None, confidence_scores=SentimentConfidenceScores(positive=0.05, neutral=0.88, negative=0.07), sentences=[SentenceSentiment(text=(Reuters) -The chief of Amazon.com's wildly profitable Amazon Web Services cloud computing unit will step down next month after a three-year term, the company said on Tuesday.  , sentiment=neutral, confidence_scores=SentimentConfidenceScores(positive=0.09, neutral=0.74, negative=0.17), length=177, offset=0, mined_opinions=[]), SentenceSentiment(text=Adam Selipsky, 57, who is also a member of Amazon's team advising CEO Andy Jassy, will leave the company on June 3.  , sentiment=neutral, confidence_scores=SentimentConfidenceScores(positive=0.05, neutral=0.92, negative=0.03), length=117, offset=177, mined_opinions=[]), SentenceSentiment(text=Selipsky has spent 14 years at AWS over two stints., sentiment=neutral, confidence_scores=SentimentConfidenceScores(positive=0.02, neutral=0.98, negative=0.0), length=51, offset]\n",
      "[AnalyzeSentimentResult(id=0, sentiment=neutral, warnings=[], statistics=None, confidence_scores=SentimentConfidenceScores(positive=0.04, neutral=0.95, negative=0.02), sentences=[SentenceSentiment(text=Amazon.com announced on Tuesday that Adam Selipsky would be stepping down as CEO of AWS, its cloud computing division, on June 3, to be replaced by Matt Garman, an in-house executive., sentiment=neutral, confidence_scores=SentimentConfidenceScores(positive=0.02, neutral=0.97, negative=0.01), length=183, offset=0, mined_opinions=[]), SentenceSentiment(text=The announcement..., sentiment=neutral, confidence_scores=SentimentConfidenceScores(positive=0.06, neutral=0.92, negative=0.02), length=19, offset=183, mined_opinions=[])], is_error=False)]\n",
      "[AnalyzeSentimentResult(id=0, sentiment=negative, warnings=[], statistics=None, confidence_scores=SentimentConfidenceScores(positive=0.03, neutral=0.39, negative=0.59), sentences=[SentenceSentiment(text=Top Midday Stories: Return of 'Roaring Kitty' Lifts GameStop Shares; , sentiment=neutral, confidence_scores=SentimentConfidenceScores(positive=0.13, neutral=0.8, negative=0.07), length=69, offset=0, mined_opinions=[]), SentenceSentiment(text=Intel, Apollo Near Deal on Ireland Plant; , sentiment=neutral, confidence_scores=SentimentConfidenceScores(positive=0.17, neutral=0.82, negative=0.02), length=42, offset=69, mined_opinions=[]), SentenceSentiment(text=BHP Latest Offer Rejected by Anglo American; , sentiment=negative, confidence_scores=SentimentConfidenceScores(positive=0.03, neutral=0.39, negative=0.59), length=45, offset=111, mined_opinions=[]), SentenceSentiment(text=Squarespace Acquired by Permira; , sentiment=neutral, confidence_scores=SentimentConfidenceScores(positive=0.02, neutral=0.97, negative=0.01)]\n",
      "[AnalyzeSentimentResult(id=0, sentiment=positive, warnings=[], statistics=None, confidence_scores=SentimentConfidenceScores(positive=0.7, neutral=0.28, negative=0.02), sentences=[SentenceSentiment(text=In this article, we list and discuss the 30 Hardest Colleges to Get Into in the US. , sentiment=neutral, confidence_scores=SentimentConfidenceScores(positive=0.03, neutral=0.88, negative=0.09), length=84, offset=0, mined_opinions=[]), SentenceSentiment(text=If you would like to skip our detailed discussion of the topic, you can go directly to the top 6 Hardest Colleges to Get Into in the US. , sentiment=neutral, confidence_scores=SentimentConfidenceScores(positive=0.05, neutral=0.74, negative=0.21), length=137, offset=84, mined_opinions=[]), SentenceSentiment(text=Quality education undoubtedly sets a person up for success. , sentiment=positive, confidence_scores=SentimentConfidenceScores(positive=0.7, neutral=0.28, negative=0.02), length=60, offset=221, mined_opinions=[]), SentenceSentiment(text=According […], s]\n",
      "[AnalyzeSentimentResult(id=0, sentiment=negative, warnings=[], statistics=None, confidence_scores=SentimentConfidenceScores(positive=0.03, neutral=0.26, negative=0.7), sentences=[SentenceSentiment(text=As television executives prepare lavish stage presentations in New York this week to dazzle advertisers during the annual TV upfront sales season, a harsh economic reality looms offstage -- digital video advertising now eclipses spending on traditional television ads.  , sentiment=negative, confidence_scores=SentimentConfidenceScores(positive=0.03, neutral=0.26, negative=0.7), length=270, offset=0, mined_opinions=[]), SentenceSentiment(text=The shift in spending and competition from tech players like Amazon has taken a toll on media companies' financial results, raising the stakes for the annual showcase of TV content to attract spending commitments from advertisers., sentiment=neutral, confidence_scores=SentimentConfidenceScores(positive=0.02, neutral=0.52, negative=0.46), length=230, offset=270, mined_opinions]\n",
      "[AnalyzeSentimentResult(id=0, sentiment=mixed, warnings=[], statistics=None, confidence_scores=SentimentConfidenceScores(positive=0.22, neutral=0.33, negative=0.45), sentences=[SentenceSentiment(text=AI can now decode your brain activity—a fancy way of saying mind reading. , sentiment=positive, confidence_scores=SentimentConfidenceScores(positive=0.58, neutral=0.4, negative=0.02), length=74, offset=0, mined_opinions=[]), SentenceSentiment(text=Big tech companies like Meta (META) are backing research into this field, including products that can decode thoughts without requiring surgery. , sentiment=neutral, confidence_scores=SentimentConfidenceScores(positive=0.07, neutral=0.92, negative=0.01), length=145, offset=74, mined_opinions=[]), SentenceSentiment(text=The big question: what does our world look like if big tech companies can read your mind? , sentiment=neutral, confidence_scores=SentimentConfidenceScores(positive=0.03, neutral=0.91, negative=0.06), length=90, offset=219, mined_opinions=[]), SentenceSenti]\n",
      "[AnalyzeSentimentResult(id=0, sentiment=neutral, warnings=[], statistics=None, confidence_scores=SentimentConfidenceScores(positive=0.1, neutral=0.82, negative=0.08), sentences=[SentenceSentiment(text=Amazon said on Monday it would invest more than 1.2 billion euros ($1.3 billion) in its French operations and create more than 3,000 permanent jobs in the country.  , sentiment=neutral, confidence_scores=SentimentConfidenceScores(positive=0.06, neutral=0.91, negative=0.03), length=165, offset=0, mined_opinions=[]), SentenceSentiment(text=The French presidency had said on Sunday that Amazon and other companies, including GSK and Accenture, would announce investments worth billions as part of the country's annual \"Choose France\" event, which begins on Monday.  , sentiment=neutral, confidence_scores=SentimentConfidenceScores(positive=0.07, neutral=0.73, negative=0.21), length=225, offset=165, mined_opinions=[]), SentenceSentiment(text=Amazon Web Services' (AWS) investment would increase cloud infrastructure in the P]\n",
      "[AnalyzeSentimentResult(id=0, sentiment=neutral, warnings=[], statistics=None, confidence_scores=SentimentConfidenceScores(positive=0.1, neutral=0.82, negative=0.08), sentences=[SentenceSentiment(text=Amazon said on Monday it would invest more than 1.2 billion euros ($1.3 billion) in its French operations and create more than 3,000 permanent jobs in the country.  , sentiment=neutral, confidence_scores=SentimentConfidenceScores(positive=0.06, neutral=0.91, negative=0.03), length=165, offset=0, mined_opinions=[]), SentenceSentiment(text=The French presidency had said on Sunday that Amazon and other companies, including GSK and Accenture, would announce investments worth billions as part of the country's annual \"Choose France\" event, which begins on Monday.  , sentiment=neutral, confidence_scores=SentimentConfidenceScores(positive=0.07, neutral=0.73, negative=0.21), length=225, offset=165, mined_opinions=[]), SentenceSentiment(text=Amazon Web Services' (AWS) investment would increase cloud infrastructure in the P]\n",
      "[AnalyzeSentimentResult(id=0, sentiment=neutral, warnings=[], statistics=None, confidence_scores=SentimentConfidenceScores(positive=0.16, neutral=0.82, negative=0.02), sentences=[SentenceSentiment(text=On the occasion of the Choose France Summit, Amazon announces an investment plan of more than 1.2 billion euros in France and the creation of more than 3,000 permanent jobs, in addition to the 2,000..., sentiment=neutral, confidence_scores=SentimentConfidenceScores(positive=0.16, neutral=0.82, negative=0.02), length=201, offset=0, mined_opinions=[])], is_error=False)]\n"
     ]
    }
   ],
   "source": [
    "result = []\n",
    "for r in latest_summary:\n",
    "    temp_res = client.analyze_sentiment([r], show_opinion_mining=False)\n",
    "    print(temp_res)\n",
    "    for i in temp_res:\n",
    "        result.append(i)\n",
    "# result = client.analyze_sentiment(latest_summary, show_opinion_mining=False)\n",
    "doc_result = [doc for doc in result if not doc.is_error]\n",
    "\n",
    "positive_reviews = [doc for doc in doc_result if doc.sentiment == \"positive\"]\n",
    "negative_reviews = [doc for doc in doc_result if doc.sentiment == \"negative\"]\n",
    "\n",
    "positive_mined_opinions = []\n",
    "mixed_mined_opinions = []\n",
    "negative_mined_opinions = []\n"
   ]
  },
  {
   "cell_type": "code",
   "execution_count": 91,
   "id": "aaad84fe-5eb6-416e-b97a-b432759db264",
   "metadata": {},
   "outputs": [],
   "source": [
    "class color:\n",
    "   PURPLE = '\\033[95m'\n",
    "   CYAN = '\\033[96m'\n",
    "   DARKCYAN = '\\033[36m'\n",
    "   BLUE = '\\033[94m'\n",
    "   GREEN = '\\033[92m'\n",
    "   YELLOW = '\\033[93m'\n",
    "   RED = '\\033[91m'\n",
    "   BOLD = '\\033[1m'\n",
    "   UNDERLINE = '\\033[4m'\n",
    "   END = '\\033[0m'"
   ]
  },
  {
   "cell_type": "code",
   "execution_count": 104,
   "id": "964e56ab-c622-4af9-a189-e2b8b9adcb3e",
   "metadata": {
    "tags": []
   },
   "outputs": [
    {
     "name": "stdout",
     "output_type": "stream",
     "text": [
      "Let's visualize the sentiment of each of these documents\n",
      "Document text: The chief of Amazon.com's wildly profitable Amazon Web Services cloud computing unit will step down next month after a three-year term, the company said on Tuesday.  Adam Selipsky, 57, who is also a member of Amazon's team advising CEO Andy Jassy, will leave the company on June 3.  Selipsky has spent 14 years at AWS over two stints.\n",
      "\u001b[1m\u001b[93mOverall sentiment: neutral\u001b[0m\n",
      "********************************************************\n",
      "Document text: (Reuters) -The chief of Amazon.com's wildly profitable Amazon Web Services cloud computing unit will step down next month after a three-year term, the company said on Tuesday.  Adam Selipsky, 57, who is also a member of Amazon's team advising CEO Andy Jassy, will leave the company on June 3.  Selipsky has spent 14 years at AWS over two stints.\n",
      "\u001b[1m\u001b[93mOverall sentiment: neutral\u001b[0m\n",
      "********************************************************\n",
      "Document text: Amazon.com announced on Tuesday that Adam Selipsky would be stepping down as CEO of AWS, its cloud computing division, on June 3, to be replaced by Matt Garman, an in-house executive.The announcement...\n",
      "\u001b[1m\u001b[93mOverall sentiment: neutral\u001b[0m\n",
      "********************************************************\n",
      "Document text: Top Midday Stories: Return of 'Roaring Kitty' Lifts GameStop Shares; Intel, Apollo Near Deal on Ireland Plant; BHP Latest Offer Rejected by Anglo American; Squarespace Acquired by Permira; Amazon Autonomous Driving Under Probe\n",
      "\u001b[1m\u001b[91mOverall sentiment: negative\u001b[0m\n",
      "********************************************************\n",
      "Document text: In this article, we list and discuss the 30 Hardest Colleges to Get Into in the US. If you would like to skip our detailed discussion of the topic, you can go directly to the top 6 Hardest Colleges to Get Into in the US. Quality education undoubtedly sets a person up for success. According […]\n",
      "\u001b[1m\u001b[92mOverall sentiment: positive\u001b[0m\n",
      "********************************************************\n",
      "Document text: As television executives prepare lavish stage presentations in New York this week to dazzle advertisers during the annual TV upfront sales season, a harsh economic reality looms offstage -- digital video advertising now eclipses spending on traditional television ads.  The shift in spending and competition from tech players like Amazon has taken a toll on media companies' financial results, raising the stakes for the annual showcase of TV content to attract spending commitments from advertisers.\n",
      "\u001b[1m\u001b[91mOverall sentiment: negative\u001b[0m\n",
      "********************************************************\n",
      "Document text: AI can now decode your brain activity—a fancy way of saying mind reading. Big tech companies like Meta (META) are backing research into this field, including products that can decode thoughts without requiring surgery. The big question: what does our world look like if big tech companies can read your mind? Tech companies are building off neurotech advancements in the medical world. Meta is backing a team of neuroscientists whose research uncovered nonsurgical ways to detect brain activity and speech to interpret your thoughts. In 2022, Apple (AAPL) also filed a patent for AirPods that uses EEG technology to measure biosignals and electrical activity of a user's brain. Noninvasive mind reading can be revolutionary in medicine for patients - it can also be used by big tech for consumer-facing products that put privacy at risk. Neurorights advocates believe our thoughts are the last piece of data we have left to ourselves. That’s why they are now fighting for legislation that would safeguard our mental privacy while tech companies continue funding brain-scanning research. If you’re going to future-proof your portfolio, you need to know what’s NEXT in the business of neurotechnology. In this series, Yahoo Finance will feature stories that give a glimpse at the future, and show how companies are making big moves today that will matter tomorrow. For more on our NEXT series, click here, and tune in to Yahoo Finance Live for more expert insight and the latest market action, Monday through Friday.\n",
      "\u001b[1m\u001b[93mOverall sentiment: mixed\u001b[0m\n",
      "********************************************************\n",
      "Document text: Amazon said on Monday it would invest more than 1.2 billion euros ($1.3 billion) in its French operations and create more than 3,000 permanent jobs in the country.  The French presidency had said on Sunday that Amazon and other companies, including GSK and Accenture, would announce investments worth billions as part of the country's annual \"Choose France\" event, which begins on Monday.  Amazon Web Services' (AWS) investment would increase cloud infrastructure in the Paris area to support France's flourishing generative AI opportunity, and logistics infrastructure in the Auvergne-Rhône-Alpes region, the company said in a statement.\n",
      "\u001b[1m\u001b[93mOverall sentiment: neutral\u001b[0m\n",
      "********************************************************\n",
      "Document text: Amazon said on Monday it would invest more than 1.2 billion euros ($1.3 billion) in its French operations and create more than 3,000 permanent jobs in the country.  The French presidency had said on Sunday that Amazon and other companies, including GSK and Accenture, would announce investments worth billions as part of the country's annual \"Choose France\" event, which begins on Monday.  Amazon Web Services' (AWS) investment would increase cloud infrastructure in the Paris area to support France's flourishing generative AI opportunity, and logistics infrastructure in the Auvergne-Rhône-Alpes region, the company said in a statement.\n",
      "\u001b[1m\u001b[93mOverall sentiment: neutral\u001b[0m\n",
      "********************************************************\n",
      "Document text: On the occasion of the Choose France Summit, Amazon announces an investment plan of more than 1.2 billion euros in France and the creation of more than 3,000 permanent jobs, in addition to the 2,000...\n",
      "\u001b[1m\u001b[93mOverall sentiment: neutral\u001b[0m\n",
      "********************************************************\n"
     ]
    }
   ],
   "source": [
    "c = color.YELLOW\n",
    "pos_count = 0\n",
    "neg_count = 0\n",
    "mix_count = 0\n",
    "print(\"Let's visualize the sentiment of each of these documents\")\n",
    "for idx, doc in enumerate(doc_result):\n",
    "    print(f\"Document text: {latest_summary[idx]}\")\n",
    "    if doc.sentiment=='positive':\n",
    "        c = color.GREEN\n",
    "        pos_count+=1\n",
    "    elif doc.sentiment=='negative':\n",
    "        c = color.RED\n",
    "        neg_count+=1\n",
    "    else:\n",
    "        c = color.YELLOW\n",
    "        mix_count+=1\n",
    "    print('\\033[1m'+c+f\"Overall sentiment: {doc.sentiment}\"+'\\033[0m')\n",
    "    print('********************************************************')"
   ]
  },
  {
   "cell_type": "code",
   "execution_count": 101,
   "id": "a6ffa624-c226-485c-9657-54c4e6b442ad",
   "metadata": {},
   "outputs": [
    {
     "name": "stdout",
     "output_type": "stream",
     "text": [
      "Positive news count: 1\n",
      "Negative news count: 2\n",
      "Mixed news count: 7\n"
     ]
    }
   ],
   "source": [
    "print(\"Positive news count: \"+str(pos_count))\n",
    "print(\"Negative news count: \"+str(neg_count))\n",
    "print(\"Mixed news count: \"+str(mix_count))\n",
    "reco = \"HOLD\"\n",
    "if pos_count>neg_count and pos_count>mix_count:\n",
    "    reco = \"BUY\"\n",
    "if neg_count>pos_count and neg_count>mix_count :\n",
    "    reco = \"SELL\""
   ]
  },
  {
   "cell_type": "code",
   "execution_count": 103,
   "id": "31b8203c-3134-4934-8122-f6ed5dd9b63b",
   "metadata": {},
   "outputs": [
    {
     "name": "stdout",
     "output_type": "stream",
     "text": [
      "Based on the latest news, the recommendation for this stock is HOLD\n"
     ]
    }
   ],
   "source": [
    "print(\"Based on the latest news, the recommendation for this stock is \"+reco)"
   ]
  },
  {
   "cell_type": "code",
   "execution_count": null,
   "id": "56c79d12-09ef-4624-ad72-451e9d185f26",
   "metadata": {},
   "outputs": [],
   "source": []
  }
 ],
 "metadata": {
  "kernelspec": {
   "display_name": "Python 3.8 - AzureML",
   "language": "python",
   "name": "python38-azureml"
  },
  "language_info": {
   "codemirror_mode": {
    "name": "ipython",
    "version": 3
   },
   "file_extension": ".py",
   "mimetype": "text/x-python",
   "name": "python",
   "nbconvert_exporter": "python",
   "pygments_lexer": "ipython3",
   "version": "3.8.5"
  }
 },
 "nbformat": 4,
 "nbformat_minor": 5
}
